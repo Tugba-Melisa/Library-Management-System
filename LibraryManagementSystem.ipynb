{
 "cells": [
  {
   "cell_type": "code",
   "execution_count": 2,
   "id": "a5934abe-d5a2-4512-9e35-c9d800d25a90",
   "metadata": {},
   "outputs": [
    {
     "name": "stdout",
     "output_type": "stream",
     "text": [
      "*** MENU ***\n",
      "1) List Books\n",
      "2) Add Book\n",
      "3) Remove Book\n",
      "q) quit\n",
      "\n"
     ]
    },
    {
     "name": "stdin",
     "output_type": "stream",
     "text": [
      "Please enter your choice:  1\n"
     ]
    },
    {
     "name": "stdout",
     "output_type": "stream",
     "text": [
      "gece yarısı kütüphanesi , matt haıg , 2019 , 385\n",
      "\n",
      "aşkın suçları , marquis de sade  , 1900 , 253\n",
      "\n",
      "gurur ve önyargı , jane austen , 1813 , 489\n",
      "\n",
      "*** MENU ***\n",
      "1) List Books\n",
      "2) Add Book\n",
      "3) Remove Book\n",
      "q) quit\n",
      "\n"
     ]
    },
    {
     "name": "stdin",
     "output_type": "stream",
     "text": [
      "Please enter your choice:  2\n",
      "what is the book title ? ali veli\n",
      "who is the author of the book ? necdet\n",
      "when is the first release year ? 1452\n",
      "Enter the number of pages? 4523\n"
     ]
    },
    {
     "name": "stdout",
     "output_type": "stream",
     "text": [
      "*** MENU ***\n",
      "1) List Books\n",
      "2) Add Book\n",
      "3) Remove Book\n",
      "q) quit\n",
      "\n"
     ]
    },
    {
     "name": "stdin",
     "output_type": "stream",
     "text": [
      "Please enter your choice:  1\n"
     ]
    },
    {
     "name": "stdout",
     "output_type": "stream",
     "text": [
      "gece yarısı kütüphanesi , matt haıg , 2019 , 385\n",
      "\n",
      "aşkın suçları , marquis de sade  , 1900 , 253\n",
      "\n",
      "gurur ve önyargı , jane austen , 1813 , 489\n",
      "\n",
      "ali veli , necdet , 1452 , 4523\n",
      "\n",
      "*** MENU ***\n",
      "1) List Books\n",
      "2) Add Book\n",
      "3) Remove Book\n",
      "q) quit\n",
      "\n"
     ]
    },
    {
     "name": "stdin",
     "output_type": "stream",
     "text": [
      "Please enter your choice:  3\n",
      "please enter the book's name : ali veli\n"
     ]
    },
    {
     "name": "stdout",
     "output_type": "stream",
     "text": [
      "*** MENU ***\n",
      "1) List Books\n",
      "2) Add Book\n",
      "3) Remove Book\n",
      "q) quit\n",
      "\n"
     ]
    },
    {
     "name": "stdin",
     "output_type": "stream",
     "text": [
      "Please enter your choice:  1\n"
     ]
    },
    {
     "name": "stdout",
     "output_type": "stream",
     "text": [
      "gece yarısı kütüphanesi , matt haıg , 2019 , 385\n",
      "\n",
      "aşkın suçları , marquis de sade  , 1900 , 253\n",
      "\n",
      "gurur ve önyargı , jane austen , 1813 , 489\n",
      "\n",
      "*** MENU ***\n",
      "1) List Books\n",
      "2) Add Book\n",
      "3) Remove Book\n",
      "q) quit\n",
      "\n"
     ]
    },
    {
     "name": "stdin",
     "output_type": "stream",
     "text": [
      "Please enter your choice:  q\n"
     ]
    }
   ],
   "source": [
    "class Library:\n",
    "    def __init__(self):\n",
    "        self.filename= \"books.txt\"\n",
    "        self.file = open(self.filename, 'a+')\n",
    "        \n",
    "    def __del__(self):\n",
    "        self.file.close()\n",
    "    \n",
    "    def list_books(self):\n",
    "        with open(self.filename, 'r') as file: #okuma modu ile açma\n",
    "            # satır satır okuma\n",
    "            book_lines = file.readlines()\n",
    "            # satırları dolaşma\n",
    "            for line in book_lines:\n",
    "                # virgül ile ayırma\n",
    "                book_info = line.strip().split(',')\n",
    "                # bastırma\n",
    "                if len(book_info) == 4:\n",
    "                    print( book_info[0]+\" , \"+book_info[1]+\" , \"+book_info[2]+\" , \"+book_info[3])\n",
    "                    print()  \n",
    "\n",
    "    def add_book(self):\n",
    "        book_title=input(\"what is the book title ?\")\n",
    "        book_author=input(\"who is the author of the book ?\")\n",
    "        first_release_year=input(\"when is the first release year ?\")\n",
    "        number_of_pages=input(\"Enter the number of pages?\")\n",
    "        information=f\"{book_title},{book_author},{first_release_year},{number_of_pages}\\n\"\n",
    "        with open(self.filename, 'a') as file:\n",
    "            file.write(information)\n",
    "\n",
    "    def remove_book(self):\n",
    "        title=input(\"please enter the book's name :\")\n",
    "        updated_books=[]\n",
    "        with open(self.filename, 'r') as file:\n",
    "            for line in file:\n",
    "                book_info=line.strip().split(',')\n",
    "                if book_info[0]==title:\n",
    "                    continue # bu satırı-kitabı atla\n",
    "                else:\n",
    "                    updated_books.append(line)\n",
    "        with open(self.filename, 'w') as file:\n",
    "            # güncellenmiş listeyi yazdırma\n",
    "            for book in updated_books:\n",
    "                file.write(book)\n",
    "\n",
    "\n",
    "lib=Library() \n",
    "def menu():\n",
    "    menu=\"\"\"*** MENU ***\n",
    "1) List Books\n",
    "2) Add Book\n",
    "3) Remove Book\n",
    "q) quit\n",
    "\"\"\"\n",
    "    print(menu)\n",
    "while True:\n",
    "    menu()\n",
    "    choice = input(\"Please enter your choice: \")\n",
    "    if choice == '1':\n",
    "        lib.list_books()\n",
    "    elif choice == '2':\n",
    "        lib.add_book()\n",
    "    elif choice == '3':\n",
    "        lib.remove_book()\n",
    "    elif choice.lower() == 'q':\n",
    "        break  # Quit the program\n",
    "    else:\n",
    "        print(\"Invalid choice\")\n"
   ]
  },
  {
   "cell_type": "code",
   "execution_count": null,
   "id": "c2f01fa7-18a5-4adf-a9df-7114d77275f9",
   "metadata": {},
   "outputs": [],
   "source": []
  }
 ],
 "metadata": {
  "kernelspec": {
   "display_name": "Python 3 (ipykernel)",
   "language": "python",
   "name": "python3"
  },
  "language_info": {
   "codemirror_mode": {
    "name": "ipython",
    "version": 3
   },
   "file_extension": ".py",
   "mimetype": "text/x-python",
   "name": "python",
   "nbconvert_exporter": "python",
   "pygments_lexer": "ipython3",
   "version": "3.8.3"
  }
 },
 "nbformat": 4,
 "nbformat_minor": 5
}
